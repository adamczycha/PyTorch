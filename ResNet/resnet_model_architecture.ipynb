{
 "cells": [
  {
   "cell_type": "code",
   "execution_count": 7,
   "metadata": {},
   "outputs": [],
   "source": [
    "import torch\n",
    "import torch.nn as nn\n",
    "import torch.nn.functional as F\n",
    "import numpy as np\n",
    "from torch.utils.data import Dataset, DataLoader\n",
    "import torch.optim as optim"
   ]
  },
  {
   "cell_type": "code",
   "execution_count": 10,
   "metadata": {},
   "outputs": [],
   "source": [
    "class block(nn.Module):\n",
    "    def __init__(self, in_channels, intermidate_channels, identity_downsample = None, stride = 1):\n",
    "        super().__init__()\n",
    "        self.expantion = 4\n",
    "        self.conv1 = nn.Conv2d(in_channels,intermidate_channels, kernel_size = 1, bias = False)\n",
    "        self.bn1 = nn.BatchNorm2d(intermidate_channels)\n",
    "        self.conv2 = nn.Conv2d(intermidate_channels,intermidate_channels,kernel_size=3, stride = stride, padding = 1, bias = False )\n",
    "        self.bn2 = nn.BatchNorm2d(intermidate_channels)\n",
    "        self.conv3 = nn.Conv2d(intermidate_channels, intermidate_channels*4, kernel_size = 1, bias = False )\n",
    "        self.bn3 = nn.BatchNorm2d(intermidate_channels*4)\n",
    "        self.identity_downsample = identity_downsample\n",
    "        self.stride = stride\n",
    "\n",
    "\n",
    "    def forward(self, x):\n",
    "        identity = x.clone()\n",
    "\n",
    "        x = self.conv1(x)\n",
    "        x = self.bn1(x)\n",
    "        x = F.relu(x)\n",
    "        x = self.conv2(x)\n",
    "        x = self.bn2(x)\n",
    "        x = F.relu(x)\n",
    "        x = self.conv3(x)\n",
    "        x = self.bn3(x)\n",
    "        x = F.relu(x)\n",
    "        \n",
    "        if self.identity_downsample is not None:\n",
    "            identity = self.identity_downsample(identity)\n",
    "\n",
    "        x += identity\n",
    "        x = F.relu(x)\n",
    "        return x\n",
    "\n",
    "        \n",
    "\n",
    "    "
   ]
  },
  {
   "cell_type": "code",
   "execution_count": 41,
   "metadata": {},
   "outputs": [],
   "source": [
    "class ResNet(nn.Module):\n",
    "    def __init__(self, block, layers, image_channels, num_classes):\n",
    "        super(ResNet, self).__init__()\n",
    "        self.in_channels = 64\n",
    "        self.conv1 = nn.Conv2d(image_channels,self.in_channels, kernel_size = 7, stride=2, padding= 3, bias=False)\n",
    "        self.bn1 = nn.BatchNorm2d(self.in_channels)\n",
    "\n",
    "        self.layer1 = self._make_layer(block, layers[0], 64, 1)\n",
    "        self.layer2 = self._make_layer(block, layers[1], 128, 2)\n",
    "        self.layer3 = self._make_layer(block, layers[2], 256, 2)\n",
    "        self.layer4 = self._make_layer(block, layers[3], 512, 2)\n",
    "\n",
    "        self.fc1 = nn.Linear(512*4, num_classes)\n",
    "\n",
    "    def forward(self,x):\n",
    "        x = self.conv1(x)\n",
    "        x = self.bn1(x)\n",
    "        x = F.relu(x)\n",
    "        x = F.max_pool2d(x, kernel_size=3, stride=2, padding =1)\n",
    "        x = self.layer1(x)\n",
    "        x = self.layer2(x)\n",
    "        x = self.layer3(x)\n",
    "        x = self.layer4(x)\n",
    "        x = F.adaptive_avg_pool2d(x,(1,1))\n",
    "        x = x.flatten(1)\n",
    "        x = self.fc1(x)\n",
    "        x = F.softmax(x)\n",
    "        return x\n",
    "\n",
    "\n",
    "    def _make_layer(self, block, num_residual_blocks, intermidate_channels, stride):\n",
    "        identity_downsample= None\n",
    "        layers = []\n",
    "\n",
    "        if stride != 1 or self.in_channels != (intermidate_channels*4):\n",
    "            identity_downsample = nn.Sequential(\n",
    "                nn.Conv2d(self.in_channels, intermidate_channels*4, stride=stride, kernel_size= 1, bias = False),\n",
    "                nn.BatchNorm2d(intermidate_channels *4)\n",
    "            )\n",
    "\n",
    "        layers.append(\n",
    "            block(self.in_channels,intermidate_channels, identity_downsample, stride)\n",
    "            )\n",
    "        \n",
    "        self.in_channels = intermidate_channels *4\n",
    "\n",
    "        for i in range(num_residual_blocks -1):\n",
    "            layers.append(block(self.in_channels, intermidate_channels))\n",
    "        \n",
    "        return nn.Sequential(*layers)\n"
   ]
  },
  {
   "cell_type": "code",
   "execution_count": 53,
   "metadata": {},
   "outputs": [],
   "source": [
    "def ResNet50(img_channel = 3, num_classes = 1000):\n",
    "    return ResNet(block, [3,4,6,3], img_channel, num_classes)\n",
    "\n"
   ]
  },
  {
   "cell_type": "code",
   "execution_count": 58,
   "metadata": {},
   "outputs": [
    {
     "name": "stdout",
     "output_type": "stream",
     "text": [
      "torch.Size([4, 1000])\n"
     ]
    },
    {
     "name": "stderr",
     "output_type": "stream",
     "text": [
      "C:\\Users\\Marcel\\AppData\\Local\\Temp\\ipykernel_32448\\318093757.py:27: UserWarning: Implicit dimension choice for softmax has been deprecated. Change the call to include dim=X as an argument.\n",
      "  x = F.softmax(x)\n"
     ]
    }
   ],
   "source": [
    "def test():\n",
    "    BATCH_SIZE = 4\n",
    "    device = torch.device(\"cuda\" if torch.cuda.is_available() else \"cpu\")\n",
    "    net = ResNet50(img_channel=3, num_classes=1000).to(device)\n",
    "    y = net(torch.randn(BATCH_SIZE, 3, 224, 224)).to(device)\n",
    "    assert y.size() == torch.Size([BATCH_SIZE, 1000])\n",
    "    print(y.size())\n",
    "\n",
    "\n",
    "if __name__ == \"__main__\":\n",
    "    test()"
   ]
  }
 ],
 "metadata": {
  "kernelspec": {
   "display_name": "Python 3",
   "language": "python",
   "name": "python3"
  },
  "language_info": {
   "codemirror_mode": {
    "name": "ipython",
    "version": 3
   },
   "file_extension": ".py",
   "mimetype": "text/x-python",
   "name": "python",
   "nbconvert_exporter": "python",
   "pygments_lexer": "ipython3",
   "version": "3.12.2"
  }
 },
 "nbformat": 4,
 "nbformat_minor": 2
}
